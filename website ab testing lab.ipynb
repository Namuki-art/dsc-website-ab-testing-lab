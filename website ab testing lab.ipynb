{
 "cells": [
  {
   "cell_type": "markdown",
   "metadata": {},
   "source": [
    "# Website A/B Testing - Lab\n",
    "\n",
    "## Introduction\n",
    "\n",
    "In this lab, you'll get another chance to practice your skills at conducting a full A/B test analysis. It will also be a chance to practice your data exploration and processing skills! The scenario you'll be investigating is data collected from the homepage of a music app page for audacity.\n",
    "\n",
    "## Objectives\n",
    "\n",
    "You will be able to:\n",
    "* Analyze the data from a website A/B test to draw relevant conclusions\n",
    "* Explore and analyze web action data"
   ]
  },
  {
   "cell_type": "markdown",
   "metadata": {},
   "source": [
    "## Exploratory Analysis\n",
    "\n",
    "Start by loading in the dataset stored in the file 'homepage_actions.csv'. Then conduct an exploratory analysis to get familiar with the data."
   ]
  },
  {
   "cell_type": "markdown",
   "metadata": {},
   "source": [
    "> Hints:\n",
    "    * Start investigating the id column:\n",
    "        * How many viewers also clicked?\n",
    "        * Are there any anomalies with the data; did anyone click who didn't view?\n",
    "        * Is there any overlap between the control and experiment groups? \n",
    "            * If so, how do you plan to account for this in your experimental design?"
   ]
  },
  {
   "cell_type": "code",
   "execution_count": 1,
   "metadata": {},
   "outputs": [],
   "source": [
    "#Your code here\n",
    "import pandas as pd\n",
    "import numpy as np\n",
    "import matplotlib.pyplot as plt\n",
    "import seaborn as sns\n",
    "from scipy import stats\n",
    "\n",
    "df = pd.read_csv('homepage_actions.csv')\n"
   ]
  },
  {
   "cell_type": "code",
   "execution_count": 2,
   "metadata": {},
   "outputs": [
    {
     "name": "stdout",
     "output_type": "stream",
     "text": [
      "<class 'pandas.core.frame.DataFrame'>\n",
      "RangeIndex: 8188 entries, 0 to 8187\n",
      "Data columns (total 4 columns):\n",
      " #   Column     Non-Null Count  Dtype \n",
      "---  ------     --------------  ----- \n",
      " 0   timestamp  8188 non-null   object\n",
      " 1   id         8188 non-null   int64 \n",
      " 2   group      8188 non-null   object\n",
      " 3   action     8188 non-null   object\n",
      "dtypes: int64(1), object(3)\n",
      "memory usage: 256.0+ KB\n"
     ]
    }
   ],
   "source": [
    "df.info()"
   ]
  },
  {
   "cell_type": "code",
   "execution_count": 4,
   "metadata": {},
   "outputs": [
    {
     "data": {
      "text/html": [
       "<div>\n",
       "<style scoped>\n",
       "    .dataframe tbody tr th:only-of-type {\n",
       "        vertical-align: middle;\n",
       "    }\n",
       "\n",
       "    .dataframe tbody tr th {\n",
       "        vertical-align: top;\n",
       "    }\n",
       "\n",
       "    .dataframe thead th {\n",
       "        text-align: right;\n",
       "    }\n",
       "</style>\n",
       "<table border=\"1\" class=\"dataframe\">\n",
       "  <thead>\n",
       "    <tr style=\"text-align: right;\">\n",
       "      <th></th>\n",
       "      <th>timestamp</th>\n",
       "      <th>id</th>\n",
       "      <th>group</th>\n",
       "      <th>action</th>\n",
       "    </tr>\n",
       "  </thead>\n",
       "  <tbody>\n",
       "    <tr>\n",
       "      <th>0</th>\n",
       "      <td>2016-09-24 17:42:27.839496</td>\n",
       "      <td>804196</td>\n",
       "      <td>experiment</td>\n",
       "      <td>view</td>\n",
       "    </tr>\n",
       "    <tr>\n",
       "      <th>1</th>\n",
       "      <td>2016-09-24 19:19:03.542569</td>\n",
       "      <td>434745</td>\n",
       "      <td>experiment</td>\n",
       "      <td>view</td>\n",
       "    </tr>\n",
       "    <tr>\n",
       "      <th>2</th>\n",
       "      <td>2016-09-24 19:36:00.944135</td>\n",
       "      <td>507599</td>\n",
       "      <td>experiment</td>\n",
       "      <td>view</td>\n",
       "    </tr>\n",
       "    <tr>\n",
       "      <th>3</th>\n",
       "      <td>2016-09-24 19:59:02.646620</td>\n",
       "      <td>671993</td>\n",
       "      <td>control</td>\n",
       "      <td>view</td>\n",
       "    </tr>\n",
       "    <tr>\n",
       "      <th>4</th>\n",
       "      <td>2016-09-24 20:26:14.466886</td>\n",
       "      <td>536734</td>\n",
       "      <td>experiment</td>\n",
       "      <td>view</td>\n",
       "    </tr>\n",
       "  </tbody>\n",
       "</table>\n",
       "</div>"
      ],
      "text/plain": [
       "                    timestamp      id       group action\n",
       "0  2016-09-24 17:42:27.839496  804196  experiment   view\n",
       "1  2016-09-24 19:19:03.542569  434745  experiment   view\n",
       "2  2016-09-24 19:36:00.944135  507599  experiment   view\n",
       "3  2016-09-24 19:59:02.646620  671993     control   view\n",
       "4  2016-09-24 20:26:14.466886  536734  experiment   view"
      ]
     },
     "execution_count": 4,
     "metadata": {},
     "output_type": "execute_result"
    }
   ],
   "source": [
    "df.head()"
   ]
  },
  {
   "cell_type": "code",
   "execution_count": 5,
   "metadata": {},
   "outputs": [
    {
     "data": {
      "text/plain": [
       "control       4264\n",
       "experiment    3924\n",
       "Name: group, dtype: int64"
      ]
     },
     "execution_count": 5,
     "metadata": {},
     "output_type": "execute_result"
    }
   ],
   "source": [
    "df['group'].value_counts()"
   ]
  },
  {
   "cell_type": "code",
   "execution_count": 6,
   "metadata": {},
   "outputs": [
    {
     "data": {
      "text/plain": [
       "view     6328\n",
       "click    1860\n",
       "Name: action, dtype: int64"
      ]
     },
     "execution_count": 6,
     "metadata": {},
     "output_type": "execute_result"
    }
   ],
   "source": [
    "df['action'].value_counts()"
   ]
  },
  {
   "cell_type": "code",
   "execution_count": 7,
   "metadata": {},
   "outputs": [
    {
     "name": "stdout",
     "output_type": "stream",
     "text": [
      "Total unique users: 6328\n",
      "Total records: 8188\n",
      "Number of users in both groups: 0\n",
      "Users who viewed: 6328\n",
      "Users who clicked: 1860\n",
      "Users who viewed AND clicked: 1860\n",
      "Users who clicked without viewing: 0\n",
      "Users with inconsistent group assignment: 0\n"
     ]
    }
   ],
   "source": [
    "# Check for unique users and potential overlap between groups\n",
    "unique_users = df['id'].nunique()\n",
    "print(f\"Total unique users: {unique_users}\")\n",
    "print(f\"Total records: {len(df)}\")\n",
    "\n",
    "# Check for users who appear in both groups\n",
    "users_by_group = df.groupby('id')['group'].nunique()\n",
    "overlap_users = users_by_group[users_by_group > 1]\n",
    "print(f\"Number of users in both groups: {len(overlap_users)}\")\n",
    "\n",
    "# Analyze view vs click behavior\n",
    "user_actions = df.groupby('id')['action'].value_counts().unstack().fillna(0)\n",
    "user_actions['has_viewed'] = user_actions['view'] > 0\n",
    "user_actions['has_clicked'] = user_actions['click'] > 0\n",
    "\n",
    "print(f\"Users who viewed: {user_actions['has_viewed'].sum()}\")\n",
    "print(f\"Users who clicked: {user_actions['has_clicked'].sum()}\")\n",
    "print(f\"Users who viewed AND clicked: {(user_actions['has_viewed'] & user_actions['has_clicked']).sum()}\")\n",
    "print(f\"Users who clicked without viewing: {(~user_actions['has_viewed'] & user_actions['has_clicked']).sum()}\")\n",
    "\n",
    "# Check group assignment consistency\n",
    "group_consistency = df.groupby('id')['group'].nunique()\n",
    "inconsistent_users = group_consistency[group_consistency > 1]\n",
    "print(f\"Users with inconsistent group assignment: {len(inconsistent_users)}\")"
   ]
  },
  {
   "cell_type": "markdown",
   "metadata": {},
   "source": [
    "## Conduct a Statistical Test\n",
    "\n",
    "Conduct a statistical test to determine whether the experimental homepage was more effective than that of the control group."
   ]
  },
  {
   "cell_type": "code",
   "execution_count": 9,
   "metadata": {},
   "outputs": [
    {
     "name": "stdout",
     "output_type": "stream",
     "text": [
      "Null hypotheses: the experimental homepage was not effective as compared to the control group\n",
      "Alternative hypotheses: the experimental homepage was more effective as compared to the control group\n",
      "\n",
      "Group Sizes:\n",
      "Control group: 3332 users\n",
      "Experiment group: 2996 users\n",
      "\n",
      "Summary Statistics:\n",
      "Control Group - Mean CTR: 0.2797, Std: 0.4489\n",
      "Experiment Group - Mean CTR: 0.3097, Std: 0.4625\n"
     ]
    },
    {
     "data": {
      "image/png": "[encoded data removed]",
      "text/plain": [
       "<Figure size 1080x360 with 3 Axes>"
      ]
     },
     "metadata": {
      "needs_background": "light"
     },
     "output_type": "display_data"
    },
    {
     "name": "stdout",
     "output_type": "stream",
     "text": [
      "\n",
      "Statistical Test Results:\n",
      "T-statistic: -2.6154\n",
      "P-value: 0.0089\n",
      "\n",
      "Difference Analysis:\n",
      "Absolute difference: 0.0300\n",
      "Relative difference: 10.74%\n",
      "95% Confidence Interval: (0.0075, 0.0525)\n",
      "Cohen's d (effect size): 0.0660\n",
      "\n",
      "Conclusion:\n",
      "Statistically significant difference detected (p < 0.05)\n",
      "Experiment group performed BETTER than control group\n",
      "Improvement: 10.74% higher CTR\n",
      "Confidence interval does not contain zero - results are statistically significant\n"
     ]
    }
   ],
   "source": [
    "#Your code here\n",
    "#hypotheses identification\n",
    "print(f\"Null hypotheses: the experimental homepage was not effective as compared to the control group\")\n",
    "print(f\"Alternative hypotheses: the experimental homepage was more effective as compared to the control group\")\n",
    "\n",
    "\n",
    "# Create user-level analysis dataset\n",
    "user_data = df.groupby(['id', 'group']).agg(\n",
    "    views=('action', lambda x: (x == 'view').sum()),\n",
    "    clicks=('action', lambda x: (x == 'click').sum())\n",
    ").reset_index()\n",
    "\n",
    "user_data['click_through_rate'] = user_data['clicks'] / user_data['views']\n",
    "\n",
    "# Split into control and experiment groups\n",
    "control_group = user_data[user_data['group'] == 'control']\n",
    "experiment_group = user_data[user_data['group'] == 'experiment']\n",
    "\n",
    "print(f\"\\nGroup Sizes:\")\n",
    "print(f\"Control group: {len(control_group)} users\")\n",
    "print(f\"Experiment group: {len(experiment_group)} users\")\n",
    "\n",
    "# Calculate summary statistics\n",
    "control_mean = control_group['click_through_rate'].mean()\n",
    "experiment_mean = experiment_group['click_through_rate'].mean()\n",
    "control_std = control_group['click_through_rate'].std()\n",
    "experiment_std = experiment_group['click_through_rate'].std()\n",
    "\n",
    "print(f\"\\nSummary Statistics:\")\n",
    "print(f\"Control Group - Mean CTR: {control_mean:.4f}, Std: {control_std:.4f}\")\n",
    "print(f\"Experiment Group - Mean CTR: {experiment_mean:.4f}, Std: {experiment_std:.4f}\")\n",
    "\n",
    "# Visualize the distributions\n",
    "plt.figure(figsize=(15, 5))\n",
    "\n",
    "plt.subplot(1, 3, 1)\n",
    "sns.histplot(control_group['click_through_rate'], kde=True, alpha=0.5, label='Control', color='blue')\n",
    "sns.histplot(experiment_group['click_through_rate'], kde=True, alpha=0.5, label='Experiment', color='orange')\n",
    "plt.title('CTR Distribution by Group')\n",
    "plt.xlabel('Click Through Rate')\n",
    "plt.legend()\n",
    "\n",
    "plt.subplot(1, 3, 2)\n",
    "sns.boxplot(x='group', y='click_through_rate', data=user_data)\n",
    "plt.title('CTR by Group (Box Plot)')\n",
    "plt.ylabel('Click Through Rate')\n",
    "\n",
    "plt.subplot(1, 3, 3)\n",
    "groups = ['Control', 'Experiment']\n",
    "means = [control_mean, experiment_mean]\n",
    "std_errors = [control_std/np.sqrt(len(control_group)), experiment_std/np.sqrt(len(experiment_group))]\n",
    "plt.bar(groups, means, yerr=std_errors, capsize=10, alpha=0.7, color=['blue', 'orange'])\n",
    "plt.title('Mean CTR with Standard Error')\n",
    "plt.ylabel('Click Through Rate')\n",
    "\n",
    "plt.tight_layout()\n",
    "plt.show()\n",
    "\n",
    "# Perform statistical test (t-test)\n",
    "t_stat, p_value = stats.ttest_ind(control_group['click_through_rate'], \n",
    "                                 experiment_group['click_through_rate'],\n",
    "                                 equal_var=False)  # Welch's t-test\n",
    "\n",
    "print(f\"\\nStatistical Test Results:\")\n",
    "print(f\"T-statistic: {t_stat:.4f}\")\n",
    "print(f\"P-value: {p_value:.4f}\")\n",
    "\n",
    "# Calculate confidence interval for the difference\n",
    "mean_diff = experiment_mean - control_mean\n",
    "n1, n2 = len(control_group), len(experiment_group)\n",
    "se = np.sqrt(control_std**2/n1 + experiment_std**2/n2)\n",
    "ci_low = mean_diff - 1.96 * se\n",
    "ci_high = mean_diff + 1.96 * se\n",
    "\n",
    "print(f\"\\nDifference Analysis:\")\n",
    "print(f\"Absolute difference: {mean_diff:.4f}\")\n",
    "print(f\"Relative difference: {(mean_diff/control_mean)*100:.2f}%\")\n",
    "print(f\"95% Confidence Interval: ({ci_low:.4f}, {ci_high:.4f})\")\n",
    "\n",
    "# Calculate effect size (Cohen's d)\n",
    "pooled_std = np.sqrt(((n1-1)*control_std**2 + (n2-1)*experiment_std**2) / (n1+n2-2))\n",
    "cohens_d = mean_diff / pooled_std\n",
    "print(f\"Cohen's d (effect size): {cohens_d:.4f}\")\n",
    "\n",
    "# Interpret the results\n",
    "alpha = 0.05\n",
    "print(f\"\\nConclusion:\")\n",
    "if p_value < alpha:\n",
    "    print(\"Statistically significant difference detected (p < 0.05)\")\n",
    "    if mean_diff > 0:\n",
    "        print(\"Experiment group performed BETTER than control group\")\n",
    "        print(f\"Improvement: {mean_diff/control_mean*100:.2f}% higher CTR\")\n",
    "    else:\n",
    "        print(\"Experiment group performed WORSE than control group\")\n",
    "        print(f\"Decline: {abs(mean_diff/control_mean)*100:.2f}% lower CTR\")\n",
    "else:\n",
    "    print(\"No statistically significant difference detected (p ≥ 0.05)\")\n",
    "    print(\"The experiment did not show a meaningful impact on CTR\")\n",
    "\n",
    "# Check if the confidence interval contains zero\n",
    "if ci_low <= 0 <= ci_high:\n",
    "    print(\"Confidence interval contains zero - results are not statistically significant\")\n",
    "else:\n",
    "    print(\"Confidence interval does not contain zero - results are statistically significant\")"
   ]
  },
  {
   "cell_type": "markdown",
   "metadata": {},
   "source": [
    "## Verifying Results\n",
    "\n",
    "One sensible formulation of the data to answer the hypothesis test above would be to create a binary variable representing each individual in the experiment and control group. This binary variable would represent whether or not that individual clicked on the homepage; 1 for they did and 0 if they did not. \n",
    "\n",
    "The variance for the number of successes in a sample of a binomial variable with n observations is given by:\n",
    "\n",
    "## $n\\bullet p (1-p)$\n",
    "\n",
    "Given this, perform 3 steps to verify the results of your statistical test:\n",
    "1. Calculate the expected number of clicks for the experiment group, if it had the same click-through rate as that of the control group. \n",
    "2. Calculate the number of standard deviations that the actual number of clicks was from this estimate. \n",
    "3. Finally, calculate a p-value using the normal distribution based on this z-score."
   ]
  },
  {
   "cell_type": "markdown",
   "metadata": {},
   "source": [
    "### Step 1:\n",
    "Calculate the expected number of clicks for the experiment group, if it had the same click-through rate as that of the control group. "
   ]
  },
  {
   "cell_type": "code",
   "execution_count": 10,
   "metadata": {},
   "outputs": [
    {
     "name": "stdout",
     "output_type": "stream",
     "text": [
      "Expected clicks for experiment group (if same as control CTR):\n",
      "Control CTR: 0.2797\n",
      "Experiment group views: 2996\n",
      "Expected clicks: 838.02\n"
     ]
    }
   ],
   "source": [
    "#Your code here\n",
    "control_ctr = control_group['clicks'].sum() / control_group['views'].sum()\n",
    "expected_clicks_experiment = control_ctr * experiment_group['views'].sum()\n",
    "\n",
    "print(\"Expected clicks for experiment group (if same as control CTR):\")\n",
    "print(f\"Control CTR: {control_ctr:.4f}\")\n",
    "print(f\"Experiment group views: {experiment_group['views'].sum()}\")\n",
    "print(f\"Expected clicks: {expected_clicks_experiment:.2f}\")\n"
   ]
  },
  {
   "cell_type": "markdown",
   "metadata": {},
   "source": [
    "### Step 2:\n",
    "Calculate the number of standard deviations that the actual number of clicks was from this estimate."
   ]
  },
  {
   "cell_type": "code",
   "execution_count": 11,
   "metadata": {},
   "outputs": [
    {
     "name": "stdout",
     "output_type": "stream",
     "text": [
      "\n",
      "Z-score calculation:\n",
      "Actual clicks in experiment group: 928\n",
      "Expected clicks: 838.02\n",
      "Standard deviation: 24.57\n",
      "Z-score: 3.6625\n"
     ]
    }
   ],
   "source": [
    "#Your code here\n",
    "actual_clicks_experiment = experiment_group['clicks'].sum()\n",
    "n_experiment = experiment_group['views'].sum()\n",
    "\n",
    "# Variance for binomial distribution: n * p * (1-p)\n",
    "variance = n_experiment * control_ctr * (1 - control_ctr)\n",
    "std_dev = np.sqrt(variance)\n",
    "\n",
    "z_score = (actual_clicks_experiment - expected_clicks_experiment) / std_dev\n",
    "\n",
    "print(f\"\\nZ-score calculation:\")\n",
    "print(f\"Actual clicks in experiment group: {actual_clicks_experiment}\")\n",
    "print(f\"Expected clicks: {expected_clicks_experiment:.2f}\")\n",
    "print(f\"Standard deviation: {std_dev:.2f}\")\n",
    "print(f\"Z-score: {z_score:.4f}\")"
   ]
  },
  {
   "cell_type": "markdown",
   "metadata": {},
   "source": [
    "### Step 3: \n",
    "Finally, calculate a p-value using the normal distribution based on this z-score."
   ]
  },
  {
   "cell_type": "code",
   "execution_count": 12,
   "metadata": {},
   "outputs": [
    {
     "name": "stdout",
     "output_type": "stream",
     "text": [
      "\n",
      "P-value calculation\n",
      "One-tailed p-value: 0.000125\n"
     ]
    }
   ],
   "source": [
    "#Your code here\n",
    "# Since we're testing if experiment > control, use one-tailed test\n",
    "p_value = 1 - stats.norm.cdf(z_score)\n",
    "\n",
    "print(f\"\\nP-value calculation\")\n",
    "print(f\"One-tailed p-value: {p_value:.6f}\")"
   ]
  },
  {
   "cell_type": "markdown",
   "metadata": {},
   "source": [
    "### Analysis:\n",
    "\n",
    "Does this result roughly match that of the previous statistical test?\n",
    "\n",
    "> Comment: **The statistical test showed that the experimental homepage had a higher click-through rate than the control. The z-test and the manual verification produced very similar results, with nearly identical p-values. Since the p-value was below 0.05, we reject the null hypothesis and conclude that the experimental homepage significantly improved user clicks compared to the control version.**"
   ]
  },
  {
   "cell_type": "markdown",
   "metadata": {},
   "source": [
    "## Summary\n",
    "\n",
    "In this lab, you continued to get more practice designing and conducting AB tests. This required additional work preprocessing and formulating the initial problem in a suitable manner. Additionally, you also saw how to verify results, strengthening your knowledge of binomial variables, and reviewing initial statistical concepts of the central limit theorem, standard deviation, z-scores, and their accompanying p-values."
   ]
  },
  {
   "cell_type": "code",
   "execution_count": null,
   "metadata": {},
   "outputs": [],
   "source": []
  }
 ],
 "metadata": {
  "kernelspec": {
   "display_name": "Python 3",
   "language": "python",
   "name": "python3"
  },
  "language_info": {
   "codemirror_mode": {
    "name": "ipython",
    "version": 3
   },
   "file_extension": ".py",
   "mimetype": "text/x-python",
   "name": "python",
   "nbconvert_exporter": "python",
   "pygments_lexer": "ipython3",
   "version": "3.8.5"
  }
 },
 "nbformat": 4,
 "nbformat_minor": 2
}
